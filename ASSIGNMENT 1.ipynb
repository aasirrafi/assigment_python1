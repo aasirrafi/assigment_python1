{
 "cells": [
  {
   "cell_type": "code",
   "execution_count": 4,
   "metadata": {},
   "outputs": [
    {
     "name": "stdout",
     "output_type": "stream",
     "text": [
      "My name is Aasir Rafi\n",
      "I am 24 years old \n",
      "I am doing BSCS from PAF-KIET\n",
      "I am in 4 semester \n",
      "I have done my intermediate with Pre-engineering\n",
      "I cleared my intermediate with 78% marks\n"
     ]
    }
   ],
   "source": [
    "#variable\n",
    "#this code is copied from visual studio python.\n",
    "\n",
    "name = \"Aasir Rafi\"\n",
    "age = \"24\"\n",
    "deg = \"BSCS\"\n",
    "uni = \"PAF-KIET\"\n",
    "sem = \"4\"\n",
    "fie = \"Pre-engineering\"\n",
    "mark = \"78\"\n",
    "print(\"My name is \" + name +\"\\nI am \" +age + \" years old \\nI am doing \" + deg + \" from \" +uni+ \"\\nI am in \" + sem + \" semester \\nI have done my intermediate with \" \n",
    "     +fie +\"\\nI cleared my intermediate with \" +mark+ \"% marks\")\n",
    "\n"
   ]
  },
  {
   "cell_type": "code",
   "execution_count": 6,
   "metadata": {},
   "outputs": [
    {
     "name": "stdout",
     "output_type": "stream",
     "text": [
      "My name is Aasir Rafi \n",
      "I am 24 years old \n",
      "I am doing BSCS from PAF-KIET\n",
      "I am in 4 semester \n",
      "I have done my intermediate with Pre-engineering\n",
      "I cleared my intermediate with 78% marks\n"
     ]
    }
   ],
   "source": [
    "\n",
    "#list\n",
    "\n",
    "data = [\"Aasir Rafi\", \"24\",\"BSCS\",\"PAF-KIET\", \"4\",\"Pre-engineering\" , \"78\"]\n",
    "print(\"My name is \" + data[0] + \" \\nI am \" + data[1] + \" years old \\nI am doing \" + data[2] + \n",
    "      \" from \" + data[3] +\"\\nI am in \" +data[4]+\" semester \\nI have done my intermediate with \" \n",
    "      + data[5] + \"\\nI cleared my intermediate with \" + data[6]+ \"% marks\" )"
   ]
  },
  {
   "cell_type": "code",
   "execution_count": null,
   "metadata": {},
   "outputs": [],
   "source": []
  }
 ],
 "metadata": {
  "kernelspec": {
   "display_name": "Python 3",
   "language": "python",
   "name": "python3"
  },
  "language_info": {
   "codemirror_mode": {
    "name": "ipython",
    "version": 3
   },
   "file_extension": ".py",
   "mimetype": "text/x-python",
   "name": "python",
   "nbconvert_exporter": "python",
   "pygments_lexer": "ipython3",
   "version": "3.7.6"
  }
 },
 "nbformat": 4,
 "nbformat_minor": 4
}
